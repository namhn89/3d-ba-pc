{
 "cells": [
  {
   "cell_type": "code",
   "execution_count": 1,
   "metadata": {},
   "outputs": [],
   "source": [
    "import numpy as np"
   ]
  },
  {
   "cell_type": "code",
   "execution_count": 1,
   "metadata": {},
   "outputs": [
    {
     "name": "stderr",
     "output_type": "stream",
     "text": [
      "/home/nam/workspace/vinai/project/3d-ba-pc/load_data.py:7: H5pyDeprecationWarning: The default file mode will change to 'r' (read-only) in h5py 3.0. To suppress this warning, pass the mode you need to h5py.File(), or set the global default h5.get_config().default_file_mode, or set the environment variable H5PY_DEFAULT_READONLY=1. Available modes are: 'r', 'r+', 'w', 'w-'/'x', 'a'. See the docs for details.\n",
      "  f = h5py.File(h5_filename)\n"
     ]
    }
   ],
   "source": [
    "from load_data import load_data\n",
    "x_train, y_train, x_test, y_test = load_data()"
   ]
  },
  {
   "cell_type": "code",
   "execution_count": 2,
   "metadata": {},
   "outputs": [
    {
     "name": "stdout",
     "output_type": "stream",
     "text": [
      "Length training data 10240\n",
      "Length testing data 2468\n"
     ]
    }
   ],
   "source": [
    "print('Length training data {}'.format(len(x_train)))\n",
    "print('Length testing data {}'.format(len(x_test)))"
   ]
  },
  {
   "cell_type": "code",
   "execution_count": 3,
   "metadata": {},
   "outputs": [],
   "source": [
    "from config import *"
   ]
  },
  {
   "cell_type": "code",
   "execution_count": 5,
   "metadata": {},
   "outputs": [],
   "source": [
    "from collections import Counter\n",
    "my_train = Counter()\n",
    "my_test = Counter()\n",
    "count_train = [0] * NUM_CLASSES\n",
    "count_test = [0] * NUM_CLASSES"
   ]
  },
  {
   "cell_type": "code",
   "execution_count": 10,
   "metadata": {},
   "outputs": [
    {
     "name": "stdout",
     "output_type": "stream",
     "text": [
      "Counter({'3': 7570, '2': 6980, '1': 4480, '0': 3130, '8': 2710, '5': 2070, '7': 1990, '4': 1970, '6': 1750, '9': 940})\n",
      "Counter({'2': 1944, '3': 1652, '1': 1364, '7': 640, '5': 640, '6': 640, '0': 480, '8': 480, '4': 452, '9': 160})\n"
     ]
    }
   ],
   "source": [
    "for label in y_train:\n",
    "    my_train.update(str(label[0]))\n",
    "for label in y_test:\n",
    "    my_test.update(str(label[0]))\n",
    "print(my_train)\n",
    "print(my_test)"
   ]
  },
  {
   "cell_type": "code",
   "execution_count": null,
   "metadata": {},
   "outputs": [],
   "source": []
  }
 ],
 "metadata": {
  "kernelspec": {
   "display_name": "Python 3",
   "language": "python",
   "name": "python3"
  },
  "language_info": {
   "codemirror_mode": {
    "name": "ipython",
    "version": 3
   },
   "file_extension": ".py",
   "mimetype": "text/x-python",
   "name": "python",
   "nbconvert_exporter": "python",
   "pygments_lexer": "ipython3",
   "version": "3.6.10"
  }
 },
 "nbformat": 4,
 "nbformat_minor": 4
}
