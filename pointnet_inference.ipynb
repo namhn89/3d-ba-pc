{
 "cells": [
  {
   "cell_type": "code",
   "execution_count": 6,
   "metadata": {},
   "outputs": [],
   "source": [
    "import os\n",
    "import random\n",
    "from random import randrange\n",
    "from IPython.display import clear_output\n",
    "import numpy as np\n",
    "import torch\n",
    "import torch.nn as nn\n",
    "import torch.nn.parallel\n",
    "import torch.optim as optim\n",
    "import torch.utils.data\n",
    "import torchvision.datasets as dset\n",
    "import torchvision.transforms as transforms\n",
    "import torchvision.utils as vutils\n",
    "from torch.autograd import Variable\n",
    "import torch.nn.functional as F\n",
    "import matplotlib.pyplot as plt\n",
    "import open3d as o3\n",
    "if torch.cuda.is_available():\n",
    "    import torch.backends.cudnn as cudnn\n",
    "from load_data import load_data"
   ]
  },
  {
   "cell_type": "code",
   "execution_count": 7,
   "metadata": {},
   "outputs": [],
   "source": [
    "categories = {\n",
    "    0: 'airplane',\n",
    "    1: 'bathtub',\n",
    "    2: 'bed',\n",
    "    3: 'bench',\n",
    "    4: 'bookshelf',\n",
    "    5: 'bottle',\n",
    "    6: 'bowl',\n",
    "    7: 'car',\n",
    "    8: 'chair',\n",
    "    9: 'cone',\n",
    "    10: 'cup',\n",
    "    11: 'curtain',\n",
    "    12: 'desk',\n",
    "    13: 'door',\n",
    "    14: 'dresser',\n",
    "    15: 'flower_pot',\n",
    "    16: 'glass_box',\n",
    "    17: 'guitar',\n",
    "    18: 'keyboard',\n",
    "    19: 'lamp',\n",
    "    20: 'laptop',\n",
    "    21: 'mantel',\n",
    "    22: 'monitor',\n",
    "    23: 'night_stand',\n",
    "    24: 'person',\n",
    "    25: 'piano',\n",
    "    26: 'plant',\n",
    "    27: 'radio',\n",
    "    28: 'range_hood',\n",
    "    29: 'sink',\n",
    "    30: 'sofa',\n",
    "    31: 'stairs',\n",
    "    32: 'stool',\n",
    "    33: 'table',\n",
    "    34: 'tent',\n",
    "    35: 'toilet',\n",
    "    36: 'tv_stand',\n",
    "    37: 'vase',\n",
    "    38: 'wardrobe',\n",
    "    39: 'xbox'\n",
    "}"
   ]
  },
  {
   "cell_type": "code",
   "execution_count": null,
   "metadata": {},
   "outputs": [],
   "source": [
    "x_train, y_train  "
   ]
  }
 ],
 "metadata": {
  "kernelspec": {
   "display_name": "Python 3",
   "language": "python",
   "name": "python3"
  },
  "language_info": {
   "codemirror_mode": {
    "name": "ipython",
    "version": 3
   },
   "file_extension": ".py",
   "mimetype": "text/x-python",
   "name": "python",
   "nbconvert_exporter": "python",
   "pygments_lexer": "ipython3",
   "version": "3.6.10"
  }
 },
 "nbformat": 4,
 "nbformat_minor": 4
}
